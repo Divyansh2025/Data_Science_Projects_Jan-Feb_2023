{
 "cells": [
  {
   "cell_type": "markdown",
   "id": "61fbc596",
   "metadata": {},
   "source": [
    "# Importing the Libraries"
   ]
  },
  {
   "cell_type": "code",
   "execution_count": 3,
   "id": "4e9675c3",
   "metadata": {},
   "outputs": [],
   "source": [
    "# importing necessary libraries\n",
    "\n",
    "import pandas as pd\n",
    "import numpy as np\n",
    "import seaborn as sns\n",
    "import matplotlib.pyplot as plt\n",
    "%matplotlib inline\n",
    "\n",
    "from sklearn import preprocessing, metrics \n",
    "from sklearn.model_selection import train_test_split\n",
    "from sklearn.ensemble import RandomForestClassifier\n",
    "from sklearn.neighbors import KNeighborsClassifier\n",
    "from sklearn.metrics import accuracy_score\n",
    "from sklearn import linear_model,svm\n",
    "from sklearn.metrics import average_precision_score\n",
    "from sklearn.metrics import precision_recall_curve\n",
    "\n",
    "import warnings\n",
    "warnings.filterwarnings('ignore')"
   ]
  },
  {
   "cell_type": "markdown",
   "id": "07eda3f1",
   "metadata": {},
   "source": [
    "# Model Building"
   ]
  },
  {
   "cell_type": "code",
   "execution_count": null,
   "id": "915887c9",
   "metadata": {},
   "outputs": [],
   "source": [
    "df = pd.read_csv('NEW_LOAN_DATA.csv')\n",
    "df"
   ]
  },
  {
   "cell_type": "code",
   "execution_count": 58,
   "id": "8f70b0f1",
   "metadata": {
    "scrolled": false
   },
   "outputs": [
    {
     "data": {
      "text/plain": [
       "loan_amnt                              float64\n",
       "int_rate                               float64\n",
       "annual_inc                             float64\n",
       "loan_status                              int64\n",
       "dti                                    float64\n",
       "delinq_2yrs                            float64\n",
       "inq_last_6mths                         float64\n",
       "open_acc                               float64\n",
       "pub_rec                                float64\n",
       "revol_bal                              float64\n",
       "revol_util                             float64\n",
       "total_acc                              float64\n",
       "collection_recovery_fee                float64\n",
       "acc_now_delinq                         float64\n",
       "delinq_amnt                            float64\n",
       "pub_rec_bankruptcies                   float64\n",
       "tax_liens                              float64\n",
       "home_ownership_MORTGAGE                  int64\n",
       "home_ownership_OTHER                     int64\n",
       "home_ownership_OWN                       int64\n",
       "home_ownership_RENT                      int64\n",
       "verification_status_Not Verified         int64\n",
       "verification_status_Source Verified      int64\n",
       "verification_status_Verified             int64\n",
       "purpose_car                              int64\n",
       "purpose_credit_card                      int64\n",
       "purpose_debt_consolidation               int64\n",
       "purpose_educational                      int64\n",
       "purpose_home_improvement                 int64\n",
       "purpose_house                            int64\n",
       "purpose_major_purchase                   int64\n",
       "purpose_medical                          int64\n",
       "purpose_moving                           int64\n",
       "purpose_other                            int64\n",
       "purpose_renewable_energy                 int64\n",
       "purpose_small_business                   int64\n",
       "purpose_vacation                         int64\n",
       "purpose_wedding                          int64\n",
       "term_ 36 months                          int64\n",
       "term_ 60 months                          int64\n",
       "dtype: object"
      ]
     },
     "execution_count": 58,
     "metadata": {},
     "output_type": "execute_result"
    }
   ],
   "source": [
    "df.dtypes"
   ]
  },
  {
   "cell_type": "code",
   "execution_count": 59,
   "id": "2577bf6d",
   "metadata": {},
   "outputs": [],
   "source": [
    "features = df[df.columns.drop('loan_status')]     # X\n",
    "target = df['loan_status']                        # Y"
   ]
  },
  {
   "cell_type": "markdown",
   "id": "6a46a390",
   "metadata": {},
   "source": [
    "# Solving the problem of class imbalance by Oversampling using imblearn's SMOTE technique"
   ]
  },
  {
   "cell_type": "code",
   "execution_count": 60,
   "id": "62bd21d8",
   "metadata": {},
   "outputs": [],
   "source": [
    "from imblearn.over_sampling import SMOTE\n",
    "sm = SMOTE(random_state = 42)\n",
    "X_train_new, y_train_new = sm.fit_resample(features, target)"
   ]
  },
  {
   "cell_type": "code",
   "execution_count": 61,
   "id": "24cbf74e",
   "metadata": {},
   "outputs": [
    {
     "data": {
      "text/plain": [
       "Text(0, 0.5, 'No of rows')"
      ]
     },
     "execution_count": 61,
     "metadata": {},
     "output_type": "execute_result"
    },
    {
     "data": {
      "image/png": "[encoded data removed]",
      "text/plain": [
       "<Figure size 504x360 with 1 Axes>"
      ]
     },
     "metadata": {},
     "output_type": "display_data"
    }
   ],
   "source": [
    "sns.set(rc = {'figure.figsize':(7,5)})\n",
    "\n",
    "sns.barplot(y_train_new.value_counts().index, y_train_new.value_counts().values)\n",
    "plt.title('Loan Status', fontsize=20)\n",
    "\n",
    "plt.xlabel(\"Class Labels\")\n",
    "plt.ylabel(\"No of rows\")"
   ]
  },
  {
   "cell_type": "markdown",
   "id": "2f248bff",
   "metadata": {},
   "source": [
    "# Splitting the dataset into training and testing set"
   ]
  },
  {
   "cell_type": "code",
   "execution_count": 62,
   "id": "0041224a",
   "metadata": {},
   "outputs": [],
   "source": [
    "from sklearn.model_selection import train_test_split\n",
    "\n",
    "X_train, X_test, Y_train, Y_test = train_test_split(X_train_new, y_train_new, test_size=0.25, random_state=42)"
   ]
  },
  {
   "cell_type": "markdown",
   "id": "e1c9d6a6",
   "metadata": {},
   "source": [
    "# Logistic Regression"
   ]
  },
  {
   "cell_type": "code",
   "execution_count": 63,
   "id": "284ac62c",
   "metadata": {},
   "outputs": [],
   "source": [
    "from sklearn.linear_model import LogisticRegression\n",
    "lr = LogisticRegression()\n",
    "\n",
    "lr.fit(X_train, Y_train)\n",
    "predictions = lr.predict(X_test)"
   ]
  },
  {
   "cell_type": "code",
   "execution_count": 64,
   "id": "e09b6023",
   "metadata": {},
   "outputs": [
    {
     "data": {
      "text/plain": [
       "0.8465154691569786"
      ]
     },
     "execution_count": 64,
     "metadata": {},
     "output_type": "execute_result"
    }
   ],
   "source": [
    "accuracy_score(predictions, Y_test)"
   ]
  },
  {
   "cell_type": "code",
   "execution_count": 65,
   "id": "8f66676c",
   "metadata": {
    "scrolled": true
   },
   "outputs": [
    {
     "data": {
      "image/png": "[encoded data removed]",
      "text/plain": [
       "<Figure size 504x360 with 2 Axes>"
      ]
     },
     "metadata": {},
     "output_type": "display_data"
    }
   ],
   "source": [
    "import seaborn as sns\n",
    "from sklearn.metrics import confusion_matrix\n",
    "\n",
    "cm = confusion_matrix(predictions, Y_test)\n",
    "\n",
    "sns.heatmap(cm, annot=True, cmap='Blues', fmt='g')\n",
    "plt.xlabel('Predicted')\n",
    "plt.ylabel('Actual')\n",
    "plt.title('Confusion Matrix')\n",
    "plt.show()"
   ]
  },
  {
   "cell_type": "code",
   "execution_count": 66,
   "id": "7aa48e2c",
   "metadata": {},
   "outputs": [
    {
     "name": "stdout",
     "output_type": "stream",
     "text": [
      "              precision    recall  f1-score   support\n",
      "\n",
      "           0       0.79      0.89      0.84      6998\n",
      "           1       0.90      0.81      0.85      8743\n",
      "\n",
      "    accuracy                           0.85     15741\n",
      "   macro avg       0.85      0.85      0.85     15741\n",
      "weighted avg       0.85      0.85      0.85     15741\n",
      "\n"
     ]
    }
   ],
   "source": [
    "from sklearn.metrics import classification_report\n",
    "\n",
    "print(classification_report(predictions, Y_test))"
   ]
  },
  {
   "cell_type": "markdown",
   "id": "2933c678",
   "metadata": {},
   "source": [
    "# Random Forest Classifier"
   ]
  },
  {
   "cell_type": "code",
   "execution_count": 67,
   "id": "0363b744",
   "metadata": {},
   "outputs": [],
   "source": [
    "from sklearn.ensemble import RandomForestClassifier\n",
    "\n",
    "rf = RandomForestClassifier(class_weight=\"balanced\")\n",
    "\n",
    "rf.fit(X_train, Y_train)\n",
    "predictions = rf.predict(X_test)"
   ]
  },
  {
   "cell_type": "code",
   "execution_count": 68,
   "id": "39dcc481",
   "metadata": {},
   "outputs": [
    {
     "data": {
      "text/plain": [
       "0.964170001905851"
      ]
     },
     "execution_count": 68,
     "metadata": {},
     "output_type": "execute_result"
    }
   ],
   "source": [
    "accuracy_score(predictions, Y_test)"
   ]
  },
  {
   "cell_type": "code",
   "execution_count": 69,
   "id": "1376c405",
   "metadata": {},
   "outputs": [
    {
     "data": {
      "image/png": "[encoded data removed]",
      "text/plain": [
       "<Figure size 504x360 with 2 Axes>"
      ]
     },
     "metadata": {},
     "output_type": "display_data"
    }
   ],
   "source": [
    "import seaborn as sns\n",
    "from sklearn.metrics import confusion_matrix\n",
    "\n",
    "cm = confusion_matrix(predictions, Y_test)\n",
    "\n",
    "sns.heatmap(cm, annot=True, cmap='Blues', fmt='g')\n",
    "plt.xlabel('Predicted')\n",
    "plt.ylabel('Actual')\n",
    "plt.title('Confusion Matrix')\n",
    "plt.show()"
   ]
  },
  {
   "cell_type": "code",
   "execution_count": 70,
   "id": "53f81ea7",
   "metadata": {},
   "outputs": [
    {
     "name": "stdout",
     "output_type": "stream",
     "text": [
      "              precision    recall  f1-score   support\n",
      "\n",
      "           0       0.93      0.99      0.96      7410\n",
      "           1       1.00      0.94      0.97      8331\n",
      "\n",
      "    accuracy                           0.96     15741\n",
      "   macro avg       0.96      0.97      0.96     15741\n",
      "weighted avg       0.97      0.96      0.96     15741\n",
      "\n"
     ]
    }
   ],
   "source": [
    "from sklearn.metrics import classification_report\n",
    "\n",
    "print(classification_report(predictions, Y_test))"
   ]
  },
  {
   "cell_type": "markdown",
   "id": "6f8e6db8",
   "metadata": {},
   "source": [
    "# Decision Tree Classifier"
   ]
  },
  {
   "cell_type": "code",
   "execution_count": 71,
   "id": "01c1b5b5",
   "metadata": {},
   "outputs": [
    {
     "data": {
      "text/plain": [
       "0.9320246490057811"
      ]
     },
     "execution_count": 71,
     "metadata": {},
     "output_type": "execute_result"
    }
   ],
   "source": [
    "from sklearn.tree import DecisionTreeClassifier\n",
    "\n",
    "clf = DecisionTreeClassifier(random_state=0)\n",
    "\n",
    "clf.fit(X_train, Y_train)\n",
    "predictions = clf.predict(X_test)\n",
    "\n",
    "accuracy_score(predictions, Y_test)"
   ]
  },
  {
   "cell_type": "code",
   "execution_count": 72,
   "id": "30e839f2",
   "metadata": {},
   "outputs": [
    {
     "data": {
      "image/png": "[encoded data removed]",
      "text/plain": [
       "<Figure size 504x360 with 2 Axes>"
      ]
     },
     "metadata": {},
     "output_type": "display_data"
    }
   ],
   "source": [
    "import seaborn as sns\n",
    "from sklearn.metrics import confusion_matrix\n",
    "\n",
    "cm = confusion_matrix(predictions, Y_test)\n",
    "\n",
    "sns.heatmap(cm, annot=True, cmap='Blues', fmt='g')\n",
    "plt.xlabel('Predicted')\n",
    "plt.ylabel('Actual')\n",
    "plt.title('Confusion Matrix')\n",
    "plt.show()"
   ]
  },
  {
   "cell_type": "code",
   "execution_count": 77,
   "id": "7885da0e",
   "metadata": {},
   "outputs": [
    {
     "name": "stdout",
     "output_type": "stream",
     "text": [
      "              precision    recall  f1-score   support\n",
      "\n",
      "           0       0.94      0.93      0.93      7978\n",
      "           1       0.93      0.94      0.93      7763\n",
      "\n",
      "    accuracy                           0.93     15741\n",
      "   macro avg       0.93      0.93      0.93     15741\n",
      "weighted avg       0.93      0.93      0.93     15741\n",
      "\n"
     ]
    }
   ],
   "source": [
    "from sklearn.metrics import classification_report\n",
    "\n",
    "print(classification_report(predictions, Y_test))"
   ]
  },
  {
   "cell_type": "code",
   "execution_count": null,
   "id": "2e800e60",
   "metadata": {},
   "outputs": [],
   "source": []
  }
 ],
 "metadata": {
  "kernelspec": {
   "display_name": "Python 3",
   "language": "python",
   "name": "python3"
  },
  "language_info": {
   "codemirror_mode": {
    "name": "ipython",
    "version": 3
   },
   "file_extension": ".py",
   "mimetype": "text/x-python",
   "name": "python",
   "nbconvert_exporter": "python",
   "pygments_lexer": "ipython3",
   "version": "3.8.8"
  }
 },
 "nbformat": 4,
 "nbformat_minor": 5
}
